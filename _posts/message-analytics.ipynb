{
 "cells": [
  {
   "cell_type": "markdown",
   "metadata": {},
   "source": [
    "# Charting Facebook Messages with Python\n",
    "\n",
    "I consider myself an intermediate user of Python. However, most of my projects have been web based using libraries such as Flask. So I started looking at one of the other great uses for Python, data analytics and visualisation."
   ]
  },
  {
   "cell_type": "code",
   "execution_count": 3,
   "metadata": {},
   "outputs": [
    {
     "data": {
      "text/html": [
       "<div>\n",
       "<style scoped>\n",
       "    .dataframe tbody tr th:only-of-type {\n",
       "        vertical-align: middle;\n",
       "    }\n",
       "\n",
       "    .dataframe tbody tr th {\n",
       "        vertical-align: top;\n",
       "    }\n",
       "\n",
       "    .dataframe thead th {\n",
       "        text-align: right;\n",
       "    }\n",
       "</style>\n",
       "<table border=\"1\" class=\"dataframe\">\n",
       "  <thead>\n",
       "    <tr style=\"text-align: right;\">\n",
       "      <th></th>\n",
       "      <th>sender</th>\n",
       "      <th>timestamp</th>\n",
       "      <th>content</th>\n",
       "      <th>type</th>\n",
       "      <th>year</th>\n",
       "      <th>month</th>\n",
       "      <th>month_year</th>\n",
       "    </tr>\n",
       "  </thead>\n",
       "  <tbody>\n",
       "    <tr>\n",
       "      <th>0</th>\n",
       "      <td>Samantha Perry</td>\n",
       "      <td>2018-11-12 16:03:56.886</td>\n",
       "      <td>What other veg can I throw in?</td>\n",
       "      <td>Generic</td>\n",
       "      <td>2018</td>\n",
       "      <td>11</td>\n",
       "      <td>2018-11</td>\n",
       "    </tr>\n",
       "    <tr>\n",
       "      <th>1</th>\n",
       "      <td>Samantha Perry</td>\n",
       "      <td>2018-11-12 16:03:51.409</td>\n",
       "      <td>Hahahaha I like to experiment</td>\n",
       "      <td>Generic</td>\n",
       "      <td>2018</td>\n",
       "      <td>11</td>\n",
       "      <td>2018-11</td>\n",
       "    </tr>\n",
       "    <tr>\n",
       "      <th>2</th>\n",
       "      <td>Tim Thompson</td>\n",
       "      <td>2018-11-12 16:02:04.704</td>\n",
       "      <td>That's exactly what I do with Hairy Bikers exc...</td>\n",
       "      <td>Generic</td>\n",
       "      <td>2018</td>\n",
       "      <td>11</td>\n",
       "      <td>2018-11</td>\n",
       "    </tr>\n",
       "    <tr>\n",
       "      <th>3</th>\n",
       "      <td>Samantha Perry</td>\n",
       "      <td>2018-11-12 16:01:43.019</td>\n",
       "      <td>I've got 6 carrots</td>\n",
       "      <td>Generic</td>\n",
       "      <td>2018</td>\n",
       "      <td>11</td>\n",
       "      <td>2018-11</td>\n",
       "    </tr>\n",
       "    <tr>\n",
       "      <th>4</th>\n",
       "      <td>Samantha Perry</td>\n",
       "      <td>2018-11-12 16:01:37.014</td>\n",
       "      <td>I've got so many carrots</td>\n",
       "      <td>Generic</td>\n",
       "      <td>2018</td>\n",
       "      <td>11</td>\n",
       "      <td>2018-11</td>\n",
       "    </tr>\n",
       "  </tbody>\n",
       "</table>\n",
       "</div>"
      ],
      "text/plain": [
       "           sender               timestamp  \\\n",
       "0  Samantha Perry 2018-11-12 16:03:56.886   \n",
       "1  Samantha Perry 2018-11-12 16:03:51.409   \n",
       "2    Tim Thompson 2018-11-12 16:02:04.704   \n",
       "3  Samantha Perry 2018-11-12 16:01:43.019   \n",
       "4  Samantha Perry 2018-11-12 16:01:37.014   \n",
       "\n",
       "                                             content     type  year  month  \\\n",
       "0                     What other veg can I throw in?  Generic  2018     11   \n",
       "1                      Hahahaha I like to experiment  Generic  2018     11   \n",
       "2  That's exactly what I do with Hairy Bikers exc...  Generic  2018     11   \n",
       "3                                 I've got 6 carrots  Generic  2018     11   \n",
       "4                           I've got so many carrots  Generic  2018     11   \n",
       "\n",
       "  month_year  \n",
       "0    2018-11  \n",
       "1    2018-11  \n",
       "2    2018-11  \n",
       "3    2018-11  \n",
       "4    2018-11  "
      ]
     },
     "execution_count": 3,
     "metadata": {},
     "output_type": "execute_result"
    }
   ],
   "source": [
    "import pandas as pd\n",
    "import numpy as np\n",
    "import matplotlib.pyplot as plt\n",
    "from textblob import TextBlob\n",
    "import csv\n",
    "import json\n",
    "\n",
    "# data = {}\n",
    "\n",
    "# with open('message.json') as f:\n",
    "#     data = json.loads(f.read())\n",
    "\n",
    "# csvwriter = csv.writer(open('test.csv', 'w'), delimiter='\\t')\n",
    "# csvwriter.writerow([\"sender\", \"timestamp\", \"content\", \"type\"])\n",
    "\n",
    "# for message in data['messages']:\n",
    "#     if 'content' in message.keys():\n",
    "#         csvwriter.writerow([message['sender_name'], message['timestamp_ms'], message['content'], message['type']])\n",
    "\n",
    "\n",
    "def dateparse(timestamp):\n",
    "    pd.to_datetime(timestamp, unit='ms')\n",
    "\n",
    "messages_df = pd.read_csv('test.csv', delimiter='\\t', parse_dates=True, date_parser=dateparse)\n",
    "messages_df['timestamp'] = pd.to_datetime(messages_df['timestamp'], unit='ms')\n",
    "messages_df['year'] = pd.DatetimeIndex(messages_df['timestamp']).year\n",
    "messages_df['month'] = pd.DatetimeIndex(messages_df['timestamp']).month\n",
    "messages_df['month_year'] = pd.to_datetime(messages_df['timestamp']).dt.to_period('M')\n",
    "\n",
    "messages_df.head()"
   ]
  },
  {
   "cell_type": "code",
   "execution_count": 4,
   "metadata": {},
   "outputs": [
    {
     "data": {
      "text/html": [
       "<div>\n",
       "<style scoped>\n",
       "    .dataframe tbody tr th:only-of-type {\n",
       "        vertical-align: middle;\n",
       "    }\n",
       "\n",
       "    .dataframe tbody tr th {\n",
       "        vertical-align: top;\n",
       "    }\n",
       "\n",
       "    .dataframe thead th {\n",
       "        text-align: right;\n",
       "    }\n",
       "</style>\n",
       "<table border=\"1\" class=\"dataframe\">\n",
       "  <thead>\n",
       "    <tr style=\"text-align: right;\">\n",
       "      <th></th>\n",
       "      <th>count</th>\n",
       "    </tr>\n",
       "    <tr>\n",
       "      <th>month_year</th>\n",
       "      <th></th>\n",
       "    </tr>\n",
       "  </thead>\n",
       "  <tbody>\n",
       "    <tr>\n",
       "      <th>2016-08</th>\n",
       "      <td>7368</td>\n",
       "    </tr>\n",
       "    <tr>\n",
       "      <th>2016-09</th>\n",
       "      <td>14825</td>\n",
       "    </tr>\n",
       "    <tr>\n",
       "      <th>2016-10</th>\n",
       "      <td>17485</td>\n",
       "    </tr>\n",
       "    <tr>\n",
       "      <th>2016-11</th>\n",
       "      <td>11384</td>\n",
       "    </tr>\n",
       "    <tr>\n",
       "      <th>2016-12</th>\n",
       "      <td>7361</td>\n",
       "    </tr>\n",
       "  </tbody>\n",
       "</table>\n",
       "</div>"
      ],
      "text/plain": [
       "            count\n",
       "month_year       \n",
       "2016-08      7368\n",
       "2016-09     14825\n",
       "2016-10     17485\n",
       "2016-11     11384\n",
       "2016-12      7361"
      ]
     },
     "execution_count": 4,
     "metadata": {},
     "output_type": "execute_result"
    }
   ],
   "source": [
    "chart_df = pd.DataFrame({'count' : messages_df.groupby( [messages_df['month_year']] ).size()})\n",
    "chart_df.head()"
   ]
  },
  {
   "cell_type": "markdown",
   "metadata": {},
   "source": []
  },
  {
   "cell_type": "code",
   "execution_count": 5,
   "metadata": {},
   "outputs": [
    {
     "data": {
      "text/html": [
       "<div>\n",
       "<style scoped>\n",
       "    .dataframe tbody tr th:only-of-type {\n",
       "        vertical-align: middle;\n",
       "    }\n",
       "\n",
       "    .dataframe tbody tr th {\n",
       "        vertical-align: top;\n",
       "    }\n",
       "\n",
       "    .dataframe thead tr th {\n",
       "        text-align: left;\n",
       "    }\n",
       "\n",
       "    .dataframe thead tr:last-of-type th {\n",
       "        text-align: right;\n",
       "    }\n",
       "</style>\n",
       "<table border=\"1\" class=\"dataframe\">\n",
       "  <thead>\n",
       "    <tr>\n",
       "      <th></th>\n",
       "      <th colspan=\"2\" halign=\"left\">count</th>\n",
       "    </tr>\n",
       "    <tr>\n",
       "      <th>sender</th>\n",
       "      <th>Samantha Perry</th>\n",
       "      <th>Tim Thompson</th>\n",
       "    </tr>\n",
       "    <tr>\n",
       "      <th>month_year</th>\n",
       "      <th></th>\n",
       "      <th></th>\n",
       "    </tr>\n",
       "  </thead>\n",
       "  <tbody>\n",
       "    <tr>\n",
       "      <th>2016-08</th>\n",
       "      <td>4445</td>\n",
       "      <td>2923</td>\n",
       "    </tr>\n",
       "    <tr>\n",
       "      <th>2016-09</th>\n",
       "      <td>8627</td>\n",
       "      <td>6198</td>\n",
       "    </tr>\n",
       "    <tr>\n",
       "      <th>2016-10</th>\n",
       "      <td>10024</td>\n",
       "      <td>7461</td>\n",
       "    </tr>\n",
       "    <tr>\n",
       "      <th>2016-11</th>\n",
       "      <td>7186</td>\n",
       "      <td>4198</td>\n",
       "    </tr>\n",
       "    <tr>\n",
       "      <th>2016-12</th>\n",
       "      <td>4568</td>\n",
       "      <td>2793</td>\n",
       "    </tr>\n",
       "  </tbody>\n",
       "</table>\n",
       "</div>"
      ],
      "text/plain": [
       "                    count             \n",
       "sender     Samantha Perry Tim Thompson\n",
       "month_year                            \n",
       "2016-08              4445         2923\n",
       "2016-09              8627         6198\n",
       "2016-10             10024         7461\n",
       "2016-11              7186         4198\n",
       "2016-12              4568         2793"
      ]
     },
     "execution_count": 5,
     "metadata": {},
     "output_type": "execute_result"
    }
   ],
   "source": [
    "chart_df = pd.DataFrame({'count' : messages_df.groupby( [messages_df['month_year'], messages_df['sender']] ).size()}).unstack()\n",
    "chart_df = chart_df[chart_df.index != '2018-11']\n",
    "chart_df.head()"
   ]
  },
  {
   "cell_type": "code",
   "execution_count": 228,
   "metadata": {},
   "outputs": [
    {
     "data": {
      "image/png": "[encoded data removed]",
      "text/plain": [
       "<Figure size 2880x720 with 1 Axes>"
      ]
     },
     "metadata": {
      "needs_background": "light"
     },
     "output_type": "display_data"
    }
   ],
   "source": [
    "ax = chart_df.plot.bar(\n",
    "    figsize=(40,10), \n",
    "    yticks=np.arange(0, 10001, 500), \n",
    "    title='Facebook Messages',\n",
    "    legend=False,\n",
    "    color=[(1,0.435,0.663), (0,0.718,0.8)])\n",
    "ax.spines['top'].set_visible(False)\n",
    "ax.spines['right'].set_visible(False)\n",
    "ax.spines['bottom'].set_linewidth(0.5)\n",
    "ax.spines['left'].set_visible(False)\n",
    "ax.set_ylabel('messages')\n",
    "ax.axes.get_xaxis().get_label().set_visible(False)\n",
    "plt.savefig('messages_comparison.png', dpi=300)\n",
    "plt.show()"
   ]
  },
  {
   "cell_type": "code",
   "execution_count": 15,
   "metadata": {},
   "outputs": [
    {
     "data": {
      "image/png": "[encoded data removed]",
      "text/plain": [
       "<Figure size 2880x720 with 1 Axes>"
      ]
     },
     "metadata": {},
     "output_type": "display_data"
    }
   ],
   "source": [
    "# minimalist graph version (art)\n",
    "ax = chart_df.plot.bar(\n",
    "    figsize=(40,10), \n",
    "    yticks=None, \n",
    "    legend=False,\n",
    "    color=[(1,0.435,0.663), (0,0.718,0.8)])\n",
    "ax.spines['top'].set_visible(False)\n",
    "ax.spines['right'].set_visible(False)\n",
    "ax.spines['bottom'].set_visible(False)\n",
    "ax.spines['left'].set_visible(False)\n",
    "ax.tick_params(\n",
    "    which='both',\n",
    "    left=False,\n",
    "    bottom=False,\n",
    "    top=False,\n",
    "    labelbottom=False,\n",
    "    labelleft=False,\n",
    ")\n",
    "ax.axes.get_yaxis().get_label().set_visible(False)\n",
    "ax.axes.get_xaxis().get_label().set_visible(False)\n",
    "plt.savefig('graph_art.png', dpi=300, transparent=True)\n",
    "plt.show()"
   ]
  }
 ],
 "metadata": {
  "kernelspec": {
   "display_name": "Python 3",
   "language": "python",
   "name": "python3"
  },
  "language_info": {
   "codemirror_mode": {
    "name": "ipython",
    "version": 3
   },
   "file_extension": ".py",
   "mimetype": "text/x-python",
   "name": "python",
   "nbconvert_exporter": "python",
   "pygments_lexer": "ipython3",
   "version": "3.7.0"
  }
 },
 "nbformat": 4,
 "nbformat_minor": 2
}
